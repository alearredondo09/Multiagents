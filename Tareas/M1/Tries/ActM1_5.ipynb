{
 "cells": [
  {
   "cell_type": "code",
   "execution_count": 1,
   "id": "cae8bb4f",
   "metadata": {},
   "outputs": [],
   "source": [
    "# Instalar las librerías correspondientes para correr el proyecto\n",
    "# pip install numpy scipy matplotlib seaborn scikit-learn mesa==3.0 -q"
   ]
  },
  {
   "cell_type": "markdown",
   "id": "3c36153d",
   "metadata": {},
   "source": [
    "# Sistema de Recolección de Alimentos\n",
    "\n",
    "## Objetivo del Sistema: \n",
    "Desarrollar un sistema donde agentes llamados 'exploradores' buscan comida y la llevan de vuelta a su base. Los exploradores se desplazan buscando celdas con alimentos y regresan a la base una vez que encuentran un recurso.\n",
    "\n",
    "## Características del Sistema:\n",
    "- Energia del Explorador: Cada explorador comienza con una energía máxima de X unidades, y cada movimiento consume 1 unidad de energía. Al llegar a la base, el explorador recarga completamente su energía.\n",
    "\n",
    "- Ubicación de la Base: La base siempre se encuentra en el centro del área de búsqueda.\n",
    "\n",
    "- Parámetros del Sistema:   \n",
    "Un área de NxN celdas.  \n",
    "Un número específico de exploradores.  \n",
    "Una base fija en una celda determinada.  \n",
    "Un número de recursos.  \n",
    "Un máximo de energía que los exploradores pueden tener.  \n",
    "\n",
    "## Distribución de Agentes y Recursos  \n",
    "Tanto los agentes como los recursos se distribuyen aleatoriamente al inicio de la simulación.  \n",
    "\n",
    "## Comportamiento por Paso:  \n",
    "- Si la celda contiene recursos, el agente los recoge y regresa a la base.  \n",
    "- Si la celda no contiene recursos, el agente elige una dirección aleatoria para moverse (una de las 4 celdas vecinas) a una celda sin otro agente. Si no puede moverse allí, permanecerá en la misma celda.  \n",
    "\n",
    "## Instrucciones para la Simulación y el Análisis\n",
    "1. Simulacion inicial:  \n",
    "- Ejecuta una simulación para una matriz de 11x11 con 5 exploradores y 20 recursos.  \n",
    "- Todos los agentes deben empezar con 100 unidades de energía.  \n",
    "- Muestra gráficamente el comportamiento del modelo.  \n",
    "- Recupera, y muestra, los siguiente datos de tu simulación:  \n",
    "número de pasos necesarios para recolectar todos los recursos  \n",
    "cuántos recursos recuperó cada agente  \n",
    "cuántas recargar totales tuvo que hacer cada agente  "
   ]
  },
  {
   "cell_type": "markdown",
   "id": "9d3be3bf",
   "metadata": {},
   "source": [
    "## Imports\n",
    "\n",
    "----------------------------------------------"
   ]
  },
  {
   "cell_type": "code",
   "execution_count": 2,
   "id": "bb20953e",
   "metadata": {},
   "outputs": [
    {
     "name": "stdout",
     "output_type": "stream",
     "text": [
      "Could not import SolaraViz. If you need it, install with 'pip install --pre mesa[viz]'\n"
     ]
    }
   ],
   "source": [
    "from mesa import Agent, Model\n",
    "\n",
    "from mesa.space import SingleGrid\n",
    "\n",
    "from mesa.time import RandomActivation\n",
    "\n",
    "from mesa.datacollection import DataCollector\n",
    "\n",
    "%matplotlib inline\n",
    "import matplotlib\n",
    "import matplotlib.pyplot as plt\n",
    "import matplotlib.animation as animation\n",
    "plt.rcParams[\"animation.html\"] = \"jshtml\"\n",
    "matplotlib.rcParams['animation.embed_limit'] = 2**128\n",
    "\n",
    "import numpy as np\n",
    "import pandas as pd\n",
    "\n",
    "import time\n",
    "import datetime"
   ]
  },
  {
   "cell_type": "code",
   "execution_count": 3,
   "id": "99161a43",
   "metadata": {},
   "outputs": [],
   "source": [
    "class FoodExplorerAgent(Agent):\n",
    "    def __init__(self, model, _energy, agent_id):\n",
    "        super().__init__(model)\n",
    "        self.visited_cells = 1\n",
    "        self.total_recharges = 0 \n",
    "        self.resource_obtained = 0\n",
    "        self.max_energy = _energy\n",
    "        self.energy = _energy\n",
    "        self.returning_base = False\n",
    "        self.agent_id = agent_id\n",
    "\n",
    "    def move_to_base(self):\n",
    "        best_pos = None\n",
    "\n",
    "        if self.pos[0] > self.model.base_coord[0]:\n",
    "            best_pos = (self.pos[0]-1, self.pos[1])\n",
    "        elif self.pos[1] > self.model.base_coord[1]:\n",
    "            best_pos = (self.pos[0], self.pos[1]-1)\n",
    "        elif self.pos[0] < self.model.base_coord[0]:\n",
    "            best_pos = (self.pos[0]+1, self.pos[1])\n",
    "        elif self.pos[1] < self.model.base_coord[1]:\n",
    "            best_pos = (self.pos[0], self.pos[1]+1)\n",
    "\n",
    "        if self.model.grid.is_cell_empty(best_pos):\n",
    "            self.model.grid.move_agent(self, best_pos)\n",
    "            self.visited_cells += 1\n",
    "            self.energy -= 1\n",
    "        self.returning_base = True\n",
    "\n",
    "    def move(self):\n",
    "        possible_positions = self.model.grid.get_neighborhood(self.pos, moore=False, include_center=False)\n",
    "        base_x, base_y = self.model.base_coord\n",
    "        dist = abs(self.pos[0] - base_x) + abs(self.pos[1] - base_y)\n",
    "        options = np.random.permutation(len(possible_positions))\n",
    "\n",
    "        if self.energy == dist:\n",
    "            self.move_to_base()\n",
    "        else: \n",
    "            for i in options:\n",
    "                new_pos = possible_positions[i]\n",
    "                if self.model.grid.is_cell_empty(new_pos) and new_pos != self.model.base_coord:\n",
    "                    self.model.grid.move_agent(self, new_pos)\n",
    "                    self.visited_cells += 1\n",
    "                    self.energy -= 1\n",
    "                    break\n",
    "\n",
    "    def step(self):\n",
    "        (x,y) = self.pos\n",
    "\n",
    "        # siempre que esté en base y no tenga full energía, recarga\n",
    "        if self.pos == self.model.base_coord and self.energy < self.max_energy:\n",
    "            self.energy = self.max_energy\n",
    "            self.total_recharges += 1\n",
    "            self.returning_base = False\n",
    "        if self.model.cells[x][y] == 1 and self.returning_base == False:  # encontró comida\n",
    "            self.resource_obtained += 1\n",
    "            self.model.cells[x][y] = 0\n",
    "            self.returning_base = True\n",
    "        elif self.returning_base:\n",
    "            self.move_to_base()\n",
    "        else:\n",
    "            self.move()"
   ]
  },
  {
   "cell_type": "code",
   "execution_count": 4,
   "id": "e42cad57",
   "metadata": {},
   "outputs": [],
   "source": [
    "# Se usa para recuperar el estado de la simulación\n",
    "def get_grid(model):\n",
    "    grid = np.zeros( (model.grid.width, model.grid.height) )\n",
    "    for content, (x,y) in model.grid.coord_iter():\n",
    "        grid[x][y] = model.cells[x][y]  # se obtiene el estado de la celda\n",
    "        if content != None:\n",
    "            grid[x][y] = 2 # El 2 indica el color más oscuro (robot), 1 un gris (sucio) y el 0 un blanco (limpio)\n",
    "    bx, by = model.base_coord\n",
    "    grid[bx][by] = 3\n",
    "    return grid"
   ]
  },
  {
   "cell_type": "code",
   "execution_count": 5,
   "id": "62db631b",
   "metadata": {},
   "outputs": [],
   "source": [
    "class FoodExplorerModel(Model):\n",
    "    def __init__ (self, width, height, num_agents, num_food, energy, base_coord):\n",
    "        super().__init__()\n",
    "        self.num_agents = num_agents\n",
    "        self.num_food = num_food\n",
    "        self.base_coord = base_coord\n",
    "        \n",
    "        self.grid = SingleGrid(width, height, torus = False)\n",
    "        self.schedule = RandomActivation(self)\n",
    "\n",
    "        self.cells = np.zeros( (width, height))\n",
    "        count = int((width * height * num_food))\n",
    "        while count > 0:\n",
    "        \n",
    "            x = self.random.randrange(width)\n",
    "            y = self.random.randrange(height)\n",
    "\n",
    "            if self.cells[x][y] == 0 and (x, y) != self.base_coord:\n",
    "                self.cells[x][y] = 1\n",
    "                count -= 1\n",
    "\n",
    "        #Crear agentes\n",
    "        i = 0\n",
    "        while i < num_agents:\n",
    "            x = self.random.randrange(width)\n",
    "            y = self.random.randrange(height)\n",
    "        \n",
    "            if self.grid.is_cell_empty((x,y)):\n",
    "                agent = FoodExplorerAgent(self, energy, i+1)\n",
    "                self.schedule.add(agent)\n",
    "                self.grid.place_agent(agent, (x,y))\n",
    "                i += 1\n",
    "\n",
    "        self.steps = 0\n",
    "        self.datacollector = DataCollector(\n",
    "            model_reporters=\n",
    "                {\n",
    "                    \"Grid\" : get_grid,\n",
    "                    \"Steps\" : lambda model : model.steps,\n",
    "                    \"Clean\" : lambda model : 1.0 - (model.cells.sum() / model.cells.size)             \n",
    "                },\n",
    "            agent_reporters= \n",
    "                {\n",
    "                    \"Resources\": lambda agent: agent.resource_obtained,\n",
    "                    \"VisitedCells\": lambda agent: agent.visited_cells,\n",
    "                    \"Recharges\": lambda agent: agent.total_recharges\n",
    "                }\n",
    "        )\n",
    "\n",
    "    def step(self):\n",
    "        self.datacollector.collect(self)\n",
    "        self.schedule.step()\n",
    "        self.steps += 1"
   ]
  },
  {
   "cell_type": "code",
   "execution_count": 6,
   "id": "9c5bb77a",
   "metadata": {},
   "outputs": [
    {
     "name": "stdout",
     "output_type": "stream",
     "text": [
      "\n",
      "Agent 3 -> Food: 3, Recharges: 11, Cells visited: 994\n",
      "Agent 4 -> Food: 3, Recharges: 12, Cells visited: 998\n",
      "Agent 2 -> Food: 6, Recharges: 14, Cells visited: 994\n",
      "Agent 1 -> Food: 8, Recharges: 15, Cells visited: 988\n",
      "Agent 5 -> Food: 4, Recharges: 12, Cells visited: 992\n",
      "\n",
      "Total steps taken by all agents: 4966 \n",
      "\n"
     ]
    },
    {
     "name": "stderr",
     "output_type": "stream",
     "text": [
      "C:\\Users\\aleja\\AppData\\Local\\Temp\\ipykernel_23604\\613707812.py:9: DeprecationWarning: The time module and all its Schedulers are deprecated and will be removed in a future version. They can be replaced with AgentSet functionality. See the migration guide for details. https://mesa.readthedocs.io/latest/migration_guide.html#time-and-schedulers\n",
      "  self.schedule = RandomActivation(self)\n"
     ]
    }
   ],
   "source": [
    "WIDTH = 11\n",
    "HEIGHT = 11\n",
    "AGENTS = 5\n",
    "FOOD = 0.2\n",
    "ENERGY = 100\n",
    "BASE_COORD = (WIDTH // 2, HEIGHT // 2)\n",
    "ITERATIONS = 1000\n",
    "\n",
    "model = FoodExplorerModel(WIDTH, HEIGHT, AGENTS, FOOD, ENERGY, BASE_COORD)\n",
    "#for i in range(ITERATIONS):\n",
    "for i in range(ITERATIONS):\n",
    "    model.step()\n",
    "\n",
    "print()\n",
    "for agent in model.schedule.agents:\n",
    "    print(f\"Agent {agent.unique_id} -> \"\n",
    "          f\"Food: {agent.resource_obtained}, \"\n",
    "          f\"Recharges: {agent.total_recharges}, \"\n",
    "          f\"Cells visited: {agent.visited_cells}\")\n",
    "total_steps = 0\n",
    "for agent in model.schedule.agents:\n",
    "    total_steps += agent.visited_cells\n",
    "\n",
    "print(\"\\nTotal steps taken by all agents:\", total_steps,\"\\n\")"
   ]
  },
  {
   "cell_type": "code",
   "execution_count": 7,
   "id": "99f3d10e",
   "metadata": {},
   "outputs": [
    {
     "data": {
      "text/html": [
       "<div>\n",
       "<style scoped>\n",
       "    .dataframe tbody tr th:only-of-type {\n",
       "        vertical-align: middle;\n",
       "    }\n",
       "\n",
       "    .dataframe tbody tr th {\n",
       "        vertical-align: top;\n",
       "    }\n",
       "\n",
       "    .dataframe thead th {\n",
       "        text-align: right;\n",
       "    }\n",
       "</style>\n",
       "<table border=\"1\" class=\"dataframe\">\n",
       "  <thead>\n",
       "    <tr style=\"text-align: right;\">\n",
       "      <th></th>\n",
       "      <th>Grid</th>\n",
       "      <th>Steps</th>\n",
       "      <th>Clean</th>\n",
       "    </tr>\n",
       "  </thead>\n",
       "  <tbody>\n",
       "    <tr>\n",
       "      <th>0</th>\n",
       "      <td>[[0.0, 1.0, 0.0, 0.0, 0.0, 0.0, 0.0, 0.0, 0.0,...</td>\n",
       "      <td>1</td>\n",
       "      <td>0.801653</td>\n",
       "    </tr>\n",
       "    <tr>\n",
       "      <th>1</th>\n",
       "      <td>[[0.0, 1.0, 0.0, 0.0, 0.0, 0.0, 0.0, 0.0, 0.0,...</td>\n",
       "      <td>3</td>\n",
       "      <td>0.809917</td>\n",
       "    </tr>\n",
       "    <tr>\n",
       "      <th>2</th>\n",
       "      <td>[[0.0, 1.0, 0.0, 0.0, 0.0, 0.0, 0.0, 0.0, 0.0,...</td>\n",
       "      <td>5</td>\n",
       "      <td>0.818182</td>\n",
       "    </tr>\n",
       "    <tr>\n",
       "      <th>3</th>\n",
       "      <td>[[0.0, 1.0, 0.0, 0.0, 0.0, 2.0, 0.0, 0.0, 0.0,...</td>\n",
       "      <td>7</td>\n",
       "      <td>0.826446</td>\n",
       "    </tr>\n",
       "    <tr>\n",
       "      <th>4</th>\n",
       "      <td>[[0.0, 1.0, 0.0, 0.0, 0.0, 0.0, 0.0, 0.0, 0.0,...</td>\n",
       "      <td>9</td>\n",
       "      <td>0.826446</td>\n",
       "    </tr>\n",
       "  </tbody>\n",
       "</table>\n",
       "</div>"
      ],
      "text/plain": [
       "                                                Grid  Steps     Clean\n",
       "0  [[0.0, 1.0, 0.0, 0.0, 0.0, 0.0, 0.0, 0.0, 0.0,...      1  0.801653\n",
       "1  [[0.0, 1.0, 0.0, 0.0, 0.0, 0.0, 0.0, 0.0, 0.0,...      3  0.809917\n",
       "2  [[0.0, 1.0, 0.0, 0.0, 0.0, 0.0, 0.0, 0.0, 0.0,...      5  0.818182\n",
       "3  [[0.0, 1.0, 0.0, 0.0, 0.0, 2.0, 0.0, 0.0, 0.0,...      7  0.826446\n",
       "4  [[0.0, 1.0, 0.0, 0.0, 0.0, 0.0, 0.0, 0.0, 0.0,...      9  0.826446"
      ]
     },
     "execution_count": 7,
     "metadata": {},
     "output_type": "execute_result"
    }
   ],
   "source": [
    "all_grids = model.datacollector.get_model_vars_dataframe()\n",
    "all_grids.head()"
   ]
  },
  {
   "cell_type": "code",
   "execution_count": 8,
   "id": "e83d831c",
   "metadata": {},
   "outputs": [
    {
     "data": {
      "image/png": "[encoded data removed]",
      "text/plain": [
       "<Figure size 500x500 with 1 Axes>"
      ]
     },
     "metadata": {},
     "output_type": "display_data"
    }
   ],
   "source": [
    "fig, axis = plt.subplots(figsize=(5, 5))\n",
    "axis.set_xticks([])\n",
    "axis.set_yticks([])\n",
    "patch = plt.imshow(all_grids.iloc[0,0], cmap=plt.cm.summer)\n",
    "def animate(i):\n",
    "    patch.set_data(all_grids.iloc[i,0])\n",
    "\n",
    "anim = animation.FuncAnimation(fig, animate,frames=len(all_grids))"
   ]
  },
  {
   "cell_type": "code",
   "execution_count": null,
   "id": "b74fe105",
   "metadata": {},
   "outputs": [],
   "source": [
    "anim"
   ]
  }
 ],
 "metadata": {
  "kernelspec": {
   "display_name": "Python 3",
   "language": "python",
   "name": "python3"
  },
  "language_info": {
   "codemirror_mode": {
    "name": "ipython",
    "version": 3
   },
   "file_extension": ".py",
   "mimetype": "text/x-python",
   "name": "python",
   "nbconvert_exporter": "python",
   "pygments_lexer": "ipython3",
   "version": "3.13.0"
  }
 },
 "nbformat": 4,
 "nbformat_minor": 5
}
